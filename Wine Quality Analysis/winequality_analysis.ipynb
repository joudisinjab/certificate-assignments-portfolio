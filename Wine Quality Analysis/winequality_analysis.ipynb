{
 "cells": [
  {
   "cell_type": "code",
   "execution_count": null,
   "id": "ac08a778-27bb-4e3d-9ce6-c68b3396606a",
   "metadata": {},
   "outputs": [],
   "source": [
    "import pandas as pd\n",
    "import numpy as np\n",
    "import matplotlib.pyplot as plt \n",
    "import seaborn as sns \n",
    "from sklearn.model_selection import train_test_split, cross_val_score\n",
    "from sklearn.linear_model import LogisticRegression\n",
    "from sklearn.preprocessing import MinMaxScaler\n",
    "from sklearn.neighbors import KNeighborsClassifier\n",
    "from sklearn.metrics import confusion_matrix, classification_report \n",
    "from sklearn.utils.multiclass import unique_labels\n",
    "from scipy.stats import ttest_rel"
   ]
  },
  {
   "cell_type": "markdown",
   "id": "d5407aea-1551-4bfa-83ed-8abc23a42cbd",
   "metadata": {},
   "source": [
    "Join the red wine and white wine datasets by adding the rows of one to the other. Assign the joined data to a data frame and name it wine_data_all\n"
   ]
  },
  {
   "cell_type": "code",
   "execution_count": null,
   "id": "dfa110b2-3f76-4579-92b5-1af83f2c2841",
   "metadata": {},
   "outputs": [],
   "source": [
    "#Initializing dataset variables with URL\n",
    "white = \"http://archive.ics.uci.edu/ml/machine-learning-databases/wine-quality/winequality-white.csv\"\n",
    "red = \"http://archive.ics.uci.edu/ml/machine-learning-databases/wine-quality/winequality-red.csv\"\n",
    "\n",
    "#Creating a dataframe for white wine dataset\n",
    "white_df = pd.read_csv(white, sep=';')\n",
    "print(f\"White Wine dataset has {white_df.shape[0]} rows\") #Printing number of rows in white wine dataset\n",
    "\n",
    "#Creating a dataframe for red wine dataset\n",
    "red_df = pd.read_csv(red, sep=';')\n",
    "print(f\"Red Wine dataset has {red_df.shape[0]} rows\") #Printing number of rows in white wine dataset\n",
    "\n",
    "# Merging wine dataframes and confirming sum number of rows matches\n",
    "wine_data_all = pd.concat([red_df, white_df], ignore_index = True)\n",
    "print(f\"Sum of rows in White Wine and Red Wine dataframes: {white_df.shape[0] + red_df.shape[0]} \")\n",
    "print(f\"All wine dataset has {wine_data_all.shape[0]} rows\\n\")\n",
    "\n",
    "\n",
    "#Printing first five rows of wine dataset \n",
    "print(\"First 5 rows of All Wine dataset:\\n\")\n",
    "wine_data_all.head()"
   ]
  },
  {
   "cell_type": "markdown",
   "id": "f24a6ef5-77f9-4392-bdb8-1e58122a24c1",
   "metadata": {},
   "source": [
    "Check the data types of the attributes."
   ]
  },
  {
   "cell_type": "code",
   "execution_count": null,
   "id": "7ace482e-1c91-4716-a306-093a427ca897",
   "metadata": {},
   "outputs": [],
   "source": [
    "#Checking data types of attributes\n",
    "print(f\"Data types of All Wine dataset:\\n\\n{wine_data_all.dtypes}\")"
   ]
  },
  {
   "cell_type": "markdown",
   "id": "04e4ab63-b430-445d-a1ab-a9f9979b77e4",
   "metadata": {},
   "source": [
    "Are there any missing values in the dataset? How many?"
   ]
  },
  {
   "cell_type": "code",
   "execution_count": null,
   "id": "9fa7dd33-3be7-47a6-88e2-54e95e377682",
   "metadata": {},
   "outputs": [],
   "source": [
    "#Checking for missing values \n",
    "missing_values = wine_data_all.isnull()\n",
    "print(f\"Missing values per column in All Wine dataset:\\n{missing_values.sum()}\")\n",
    "\n",
    "#Initiating conditional if loop to check the total number of missing values in the dataset \n",
    "if missing_values.sum().sum() > 0:\n",
    "    print(f\"\\nThere are {missing_values.sum().sum()} missing values in the dataset\")\n",
    "else:\n",
    "    print(f\"\\nThere are no missing values in the dataset\")"
   ]
  },
  {
   "cell_type": "markdown",
   "id": "e5ab3db3-9111-4469-9e3f-ab0caef86f84",
   "metadata": {},
   "source": [
    "What is the correlation between the attributes other than Quality?"
   ]
  },
  {
   "cell_type": "code",
   "execution_count": null,
   "id": "f416f33b-1c9f-4cea-9e71-6e8e480bce5e",
   "metadata": {},
   "outputs": [],
   "source": [
    "#Separating target variable from dataset\n",
    "target = wine_data_all['quality']\n",
    "wine_data_all_df = wine_data_all.drop(columns=['quality'])"
   ]
  },
  {
   "cell_type": "code",
   "execution_count": null,
   "id": "064945ea-4d33-4e39-8019-afb2cd7efa1f",
   "metadata": {},
   "outputs": [],
   "source": [
    "#Checking the descriptive statistics of the All Wine dataset \n",
    "print(\"Descriptive Statistics Summary of All Wine dataset\")\n",
    "wine_data_all.describe()"
   ]
  },
  {
   "cell_type": "code",
   "execution_count": null,
   "id": "122c2ee0-67c3-4e93-8611-abaf30188569",
   "metadata": {},
   "outputs": [],
   "source": [
    "#Initializing and displaying correlation matrix\n",
    "cor_matrix = wine_data_all.corr()\n",
    "print(\"Correlation Matrix for numeric attributes in All Wine dataset\")\n",
    "cor_matrix"
   ]
  },
  {
   "cell_type": "code",
   "execution_count": null,
   "id": "aa25be2c-4767-4734-9295-088c3506fbee",
   "metadata": {},
   "outputs": [],
   "source": [
    "#Visualizing correlation with a heat map\n",
    "plt.figure(figsize=(12,6))\n",
    "sns.heatmap(cor_matrix, annot=True, cmap='coolwarm', fmt='.2f', vmin=-1, vmax=1)\n",
    "plt.title('Correlation Between Wine Attributes')\n",
    "plt.show()"
   ]
  },
  {
   "cell_type": "markdown",
   "id": "e9692591-c999-47f9-93bd-1be9278a7068",
   "metadata": {},
   "source": [
    "Plot the frequency distribution of wine quality by using the Quality attribute."
   ]
  },
  {
   "cell_type": "code",
   "execution_count": null,
   "id": "0be409a6-f35d-4e17-b33a-646f67df2f35",
   "metadata": {},
   "outputs": [],
   "source": [
    "# Plotting a histogram to visualize the Quality attribute distribution\n",
    "sns.histplot(target, bins=6, binrange=(3, 9), kde=False, color='blue')  # Customize bins and colors as needed\n",
    "plt.title('Frequency Distribution of Quality Attribute in Wine Dataset', fontsize=14)\n",
    "plt.xlabel('Quality Score', fontsize=12)\n",
    "plt.ylabel('Frequency', fontsize=12)\n",
    "plt.xticks(range(3, 10))  # Ensure the x-axis ticks match the quality scores\n",
    "plt.grid(alpha = 0.5) # Add a grid for better readability\n",
    "plt.show()"
   ]
  },
  {
   "cell_type": "markdown",
   "id": "c9745a7a-8025-4d88-ad5c-d27464fa188c",
   "metadata": {},
   "source": [
    "Reduce the levels of rating for quality to three levels, i.e., high(2), medium(1), and low(0). Assign the levels 3 and 4 to level 0; 5 and 6 to level 1; and 7, 8, and 9 to level 2. "
   ]
  },
  {
   "cell_type": "code",
   "execution_count": null,
   "id": "05b730a1-5152-4380-b079-f62038efe2d6",
   "metadata": {},
   "outputs": [],
   "source": [
    "#Creating bins for Quality rating\n",
    "bins = [2, 4, 6, 9]\n",
    "\n",
    "#Creating labels for Quality levels \n",
    "labels = [0 , 1, 2]\n",
    "\n",
    "#Categorizing quality values according to the bins created \n",
    "target = pd.cut(target, bins=bins, labels=labels, include_lowest = True, ordered= True)\n",
    "\n",
    "print(f\"Updated target type:\\n{target.dtypes}\")"
   ]
  },
  {
   "cell_type": "code",
   "execution_count": null,
   "id": "8ea5a6df-64d2-432c-9647-09842e1d3633",
   "metadata": {},
   "outputs": [],
   "source": [
    "#Checking distribution of target variable\n",
    "print(target.value_counts(normalize=True) * 100)\n",
    "\n",
    "# Plotting a histogram to visualize the Quality attribute distribution\n",
    "sns.histplot(target, bins=3, binrange=(0, 2), kde=False, color='blue')  # Customize bins and colors as needed\n",
    "plt.title('Frequency Distribution of Levels of Quality Attribute in Wine Dataset', fontsize=14)\n",
    "plt.xlabel('Quality Score', fontsize=12)\n",
    "plt.ylabel('Frequency', fontsize=12)\n",
    "plt.xticks(range(0, 3))  # Ensure the x-axis ticks match the quality scores\n",
    "plt.grid(alpha = 0.5) # Add a grid for better readability\n",
    "plt.show()"
   ]
  },
  {
   "cell_type": "markdown",
   "id": "eb921ed5-b19b-4a8d-a1d3-fff54dd7e069",
   "metadata": {},
   "source": [
    "Normalize the numeric attributes. "
   ]
  },
  {
   "cell_type": "code",
   "execution_count": null,
   "id": "dc26dc27-f60e-4341-9206-8d119c5538eb",
   "metadata": {},
   "outputs": [],
   "source": [
    "#Using the MinMax Scaler to normalize features\n",
    "scaler = MinMaxScaler()\n",
    "normalized_data = scaler.fit_transform(wine_data_all)\n",
    "\n",
    "#Converting numPy array to dataframe \n",
    "normalized_wine_data = pd.DataFrame(normalized_data, columns=wine_data_all.columns )\n",
    "\n",
    "#Printing descriptive statistics of the All Wine dataset to confirm normalization \n",
    "print(\"Normalized All Wine Dataset Descriptive Statistics:\")\n",
    "normalized_wine_data.describe()"
   ]
  },
  {
   "cell_type": "markdown",
   "id": "998fb6e9-02da-4f1f-a045-02e60473af36",
   "metadata": {},
   "source": [
    "Divide the dataset to training and test sets. "
   ]
  },
  {
   "cell_type": "code",
   "execution_count": null,
   "id": "fe680691-757a-415c-82e3-6c46160978dc",
   "metadata": {},
   "outputs": [],
   "source": [
    "#Renaming split dataset \n",
    "X = normalized_wine_data\n",
    "y = target\n",
    "\n",
    "# Split data into training and testing sets \n",
    "X_train, X_test, y_train, y_test = train_test_split(X, y, test_size=0.3, random_state=42)"
   ]
  },
  {
   "cell_type": "markdown",
   "id": "8e882e32-42b5-400f-af0a-42df5baeb846",
   "metadata": {},
   "source": [
    "Use the Logistic Regression algorithm to predict the quality of wine using its attributes."
   ]
  },
  {
   "cell_type": "code",
   "execution_count": null,
   "id": "1fe3b236-6c55-4d03-af7c-b40d073efbd2",
   "metadata": {},
   "outputs": [],
   "source": [
    "# Initializing the Logistic Regression model with a balanced class weight parameter to help address imbalance of class in target variable\n",
    "log_reg = LogisticRegression(class_weight = 'balanced')\n",
    "\n",
    "# Performing Cross-validation on the Training Set\n",
    "log_cv_scores = cross_val_score(log_reg, X_train, y_train, cv=5, scoring='accuracy')\n",
    "\n",
    "print(\"Cross-Validation Accuracy Scores on Logistic Regression Model Training Set:\", log_cv_scores)\n",
    "print(\"Average Cross-Validation Accuracy on Logistic Regression Model Training Set:\", log_cv_scores.mean())"
   ]
  }
 ],
 "metadata": {
  "kernelspec": {
   "display_name": "Python 3 (ipykernel)",
   "language": "python",
   "name": "python3"
  },
  "language_info": {
   "codemirror_mode": {
    "name": "ipython",
    "version": 3
   },
   "file_extension": ".py",
   "mimetype": "text/x-python",
   "name": "python",
   "nbconvert_exporter": "python",
   "pygments_lexer": "ipython3",
   "version": "3.12.2"
  },
  "widgets": {
   "application/vnd.jupyter.widget-state+json": {
    "state": {},
    "version_major": 2,
    "version_minor": 0
   }
  }
 },
 "nbformat": 4,
 "nbformat_minor": 5
}
